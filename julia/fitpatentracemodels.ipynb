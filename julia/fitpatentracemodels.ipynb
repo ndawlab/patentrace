{
 "cells": [
  {
   "cell_type": "code",
   "execution_count": 1,
   "metadata": {},
   "outputs": [],
   "source": [
    "# load some required packages\n",
    "# ( you need to install these eg via import Pkg; Pkg.add(...) )\n",
    "\n",
    "using CSV\n",
    "using DataFrames\n",
    "using LinearAlgebra\n",
    "using SpecialFunctions:erf\n",
    "using StatsFuns:logsumexp\n",
    "using GLM\n",
    "using Statistics\n",
    "using StatsBase"
   ]
  },
  {
   "cell_type": "code",
   "execution_count": 2,
   "metadata": {},
   "outputs": [],
   "source": [
    "# load the EM model fitting code \n",
    "# get this from https://github.com/ndawlab/em\n",
    "\n",
    "directory = \"/home/daw/winhome/Dropbox/expts/julia em/git/em\"\n",
    "\n",
    "push!(LOAD_PATH,directory)\n",
    "using EM"
   ]
  },
  {
   "cell_type": "code",
   "execution_count": 3,
   "metadata": {},
   "outputs": [
    {
     "data": {
      "text/plain": [
       "#1 (generic function with 1 method)"
      ]
     },
     "execution_count": 3,
     "metadata": {},
     "output_type": "execute_result"
    }
   ],
   "source": [
    "# load the model code (likelihood function)\n",
    "\n",
    "include(\"patent likfuns.jl\")"
   ]
  },
  {
   "cell_type": "code",
   "execution_count": 4,
   "metadata": {},
   "outputs": [
    {
     "data": {
      "text/plain": [
       "743"
      ]
     },
     "execution_count": 4,
     "metadata": {},
     "output_type": "execute_result"
    }
   ],
   "source": [
    "# load the data \n",
    "\n",
    "alldata = CSV.File(\"patent_investments_743subs.csv\") |> DataFrame\n",
    "exp1subs = unique(alldata.sub)[1:412]\n",
    "exp1NS = length(exp1subs)\n",
    "\n",
    "exp2subs = unique(alldata.sub)[413:end]\n",
    "exp2NS = length(exp2subs)\n",
    "\n",
    "allsubs = unique(alldata.sub)\n",
    "allNS = length(allsubs)"
   ]
  },
  {
   "cell_type": "code",
   "execution_count": 5,
   "metadata": {},
   "outputs": [],
   "source": [
    "# load the covariates\n",
    "# make sure the covariates are z scored separately within cohorts\n",
    "\n",
    "mergedcovars = CSV.File(\"mergedcovars.csv\") |> DataFrame \n",
    "exp1covars = mergedcovars[1:412,:]\n",
    "exp1covars.iqZ = zscore(exp1covars.iqZ)\n",
    "exp1covars.lsasZ = zscore(exp1covars.lsasZ)\n",
    "\n",
    "exp2covars = mergedcovars[413:end,:]\n",
    "exp2covars.iqZ = zscore(exp2covars.iqZ)\n",
    "exp2covars.lsasZ = zscore(exp2covars.lsasZ);"
   ]
  },
  {
   "cell_type": "code",
   "execution_count": 6,
   "metadata": {},
   "outputs": [
    {
     "name": "stdout",
     "output_type": "stream",
     "text": [
      "\n",
      "iter: 682\n",
      "betas: [1.24 1.25 -0.94 0.01 -0.33 -0.1 0.08 0.13]\n",
      "sigma: [0.25, 0.56, 0.82, 0.0, 0.02, 0.02, 0.01, 0.01]\n",
      "free energy: -31959.845135\n",
      "change: [2.0e-6, 1.0e-6, -4.0e-6, 1.3e-5, -6.0e-6, -5.0e-6, 1.9e-5, 1.2e-5, 1.1e-5, 2.0e-6, 0.0, 0.001, 0.000856, 2.6e-5, 0.000452, 0.000648]\n",
      "max: 0.001\n"
     ]
    }
   ],
   "source": [
    "# Expt 1, basic model\n",
    "# set up design matrix for fit\n",
    "\n",
    "X = ones(exp1NS)\n",
    "\n",
    "# start points\n",
    "\n",
    "betas = [-1. 0 0 0 0 0 0 0 ]\n",
    "sigma = [10.,1,1,1,1,1,1,1]\n",
    "\n",
    "# fit the model\n",
    "\n",
    "(betas,sigma,x,l,h) = em(alldata,exp1subs,X,betas,sigma,ewalik; emtol=1e-3, full=false, maxiter=1000);"
   ]
  },
  {
   "cell_type": "code",
   "execution_count": 7,
   "metadata": {},
   "outputs": [
    {
     "ename": "LoadError",
     "evalue": "type NamedTuple has no field beta",
     "output_type": "error",
     "traceback": [
      "type NamedTuple has no field beta",
      "",
      "Stacktrace:",
      "  [1] #164",
      "    @ ./none:0 [inlined]",
      "  [2] iterate(::Base.Generator{UnitRange{Int64}, Base.var\"#164#167\"{(:beta, :lsasZ, :iqZ), NamedTuple{(:sub, :exp, :ravens, :lsas, :lsasZ, :iq, :iqZ, :age, :ageZ, :f1, :f2, :f3), Tuple{Vector{Int64}, Vector{Int64}, Vector{Int64}, Vector{Int64}, Vector{Float64}, Vector{Float64}, Vector{Float64}, Vector{Int64}, Vector{Float64}, Vector{Float64}, Vector{Float64}, Vector{Float64}}}}})",
      "    @ Base ./generator.jl:47",
      "  [3] (NamedTuple{(:beta, :lsasZ, :iqZ), T} where T<:Tuple)(nt::NamedTuple{(:sub, :exp, :ravens, :lsas, :lsasZ, :iq, :iqZ, :age, :ageZ, :f1, :f2, :f3), Tuple{Vector{Int64}, Vector{Int64}, Vector{Int64}, Vector{Int64}, Vector{Float64}, Vector{Float64}, Vector{Float64}, Vector{Int64}, Vector{Float64}, Vector{Float64}, Vector{Float64}, Vector{Float64}}})",
      "    @ Base ./namedtuple.jl:99",
      "  [4] missing_omit(data::NamedTuple{(:sub, :exp, :ravens, :lsas, :lsasZ, :iq, :iqZ, :age, :ageZ, :f1, :f2, :f3), Tuple{Vector{Int64}, Vector{Int64}, Vector{Int64}, Vector{Int64}, Vector{Float64}, Vector{Float64}, Vector{Float64}, Vector{Int64}, Vector{Float64}, Vector{Float64}, Vector{Float64}, Vector{Float64}}}, formula::FormulaTerm{Term, Tuple{Term, Term}})",
      "    @ StatsModels ~/.julia/packages/StatsModels/MDeyQ/src/modelframe.jl:69",
      "  [5] ModelFrame(f::FormulaTerm{Term, Tuple{Term, Term}}, data::NamedTuple{(:sub, :exp, :ravens, :lsas, :lsasZ, :iq, :iqZ, :age, :ageZ, :f1, :f2, :f3), Tuple{Vector{Int64}, Vector{Int64}, Vector{Int64}, Vector{Int64}, Vector{Float64}, Vector{Float64}, Vector{Float64}, Vector{Int64}, Vector{Float64}, Vector{Float64}, Vector{Float64}, Vector{Float64}}}; model::Type{LinearModel}, contrasts::Dict{Symbol, Any})",
      "    @ StatsModels ~/.julia/packages/StatsModels/MDeyQ/src/modelframe.jl:74",
      "  [6] fit(::Type{LinearModel}, f::FormulaTerm{Term, Tuple{Term, Term}}, data::DataFrame, args::Nothing; contrasts::Dict{Symbol, Any}, kwargs::Base.Iterators.Pairs{Union{}, Union{}, Tuple{}, NamedTuple{(), Tuple{}}})",
      "    @ StatsModels ~/.julia/packages/StatsModels/MDeyQ/src/statsmodel.jl:85",
      "  [7] fit",
      "    @ ~/.julia/packages/StatsModels/MDeyQ/src/statsmodel.jl:82 [inlined]",
      "  [8] #lm#2",
      "    @ ~/.julia/packages/GLM/Hvwti/src/lm.jl:156 [inlined]",
      "  [9] lm (repeats 2 times)",
      "    @ ~/.julia/packages/GLM/Hvwti/src/lm.jl:156 [inlined]",
      " [10] top-level scope",
      "    @ In[7]:8",
      " [11] eval",
      "    @ ./boot.jl:360 [inlined]",
      " [12] include_string(mapexpr::typeof(REPL.softscope), mod::Module, code::String, filename::String)",
      "    @ Base ./loading.jl:1094"
     ]
    }
   ],
   "source": [
    "# x gives the per subject parameters (some need transforming to 0-1)\n",
    "# extract them and regresss on the covariates (originally we saved these and did regressions in Matlab)\n",
    "\n",
    "#exp1covars.beta = x[:,1]\n",
    "#exp1covars.alpha = 1 .- ( 0.5 .+ 0.5 .* erf.(x[:,2] ./ sqrt(2))) # alpha = 1-phi, squashed\n",
    "#exp1covars.w = ( 0.5 .+ 0.5 .* erf.(x[:,3] ./ sqrt(2)))\n",
    "\n",
    "display(lm(@formula(beta~lsasZ+iqZ),exp1covars))\n",
    "display(lm(@formula(alpha~lsasZ+iqZ),exp1covars))\n",
    "display(lm(@formula(w~lsasZ+iqZ),exp1covars))"
   ]
  },
  {
   "cell_type": "code",
   "execution_count": null,
   "metadata": {},
   "outputs": [
    {
     "name": "stdout",
     "output_type": "stream",
     "text": [
      "\n",
      "iter: 50\n",
      "betas: [1.3 1.35 -0.63 -1.44 0.02 -0.33 -0.11 0.08 0.13]\n",
      "sigma: [0.23, 0.59, 0.85, 1.23, 0.03, 0.07, 0.04, 0.03, 0.02]\n",
      "free energy: -31737.839444\n",
      "change: [0.000134, 6.2e-5, -0.000213, -0.000299, 0.004021, -2.0e-5, -0.000888, 0.000506, 0.000588, 0.000338, 2.8e-5, 5.5e-5, 0.00022, 0.015926, 0.009667, 0.012468, 0.014725, 0.015234]\n",
      "max: 0.015926\n"
     ]
    }
   ],
   "source": [
    "# Repeat the process with the valenced model, expt 1\n",
    "\n",
    "# set up the design matrix\n",
    "\n",
    "X = ones(exp1NS)\n",
    "\n",
    "# start points \n",
    "\n",
    "betas = [-1. 0 0 0 0 0 0 0 0]\n",
    "sigma = [10.,1,1,1,1,1,1,1,1]\n",
    "\n",
    "# fit the model\n",
    "\n",
    "(betas,sigma,x,l,h) = em(alldata,exp1subs,X,betas,sigma,ewalik_valenced; emtol=1e-3, full=false, maxiter=1000);"
   ]
  },
  {
   "cell_type": "code",
   "execution_count": null,
   "metadata": {},
   "outputs": [],
   "source": [
    "# x gives the per subject parameters (some need transforming to 0-1)\n",
    "# extract them and regresss on the covariates (originally we saved these and did regressions in Matlab)\n",
    "\n",
    "exp1covars.betavalenced = x[:,1]\n",
    "exp1covars.alphavalenced = 1 .- ( 0.5 .+ 0.5 .* erf.(x[:,2] ./ sqrt(2))) # alpha = 1-phi, squashed\n",
    "exp1covars.wplus = ( 0.5 .+ 0.5 .* erf.(x[:,3] ./ sqrt(2)))\n",
    "exp1covars.wminus = ( 0.5 .+ 0.5 .* erf.(x[:,4] ./ sqrt(2)))\n",
    "\n",
    "display(lm(@formula(betavalenced~lsasZ+iqZ),exp1covars))\n",
    "display(lm(@formula(alphavalenced~lsasZ+iqZ),exp1covars))\n",
    "display(lm(@formula(wplus~lsasZ+iqZ),exp1covars)) # (the lsas effect comes up not quite signif in this version, python optimizer gives answer on other side of .05)\n",
    "display(lm(@formula(wminus~lsasZ+iqZ),exp1covars))"
   ]
  },
  {
   "cell_type": "code",
   "execution_count": null,
   "metadata": {},
   "outputs": [],
   "source": [
    "# Expt 2, basic model\n",
    "# set up design matrix for fit\n",
    "\n",
    "X = ones(exp2NS)\n",
    "\n",
    "# initial conditions\n",
    "\n",
    "betas = [-1. 0 0 0 0 0 0 0 ]\n",
    "sigma = [10.,1,1,1,1,1,1,1]\n",
    "\n",
    "# fit the model\n",
    "\n",
    "(betas,sigma,x,l,h) = em(alldata,exp2subs,X,betas,sigma,ewalik; emtol=1e-3, full=false, maxiter=1000);"
   ]
  },
  {
   "cell_type": "code",
   "execution_count": null,
   "metadata": {},
   "outputs": [],
   "source": [
    "# x gives the per subject parameters (some need transforming to 0-1)\n",
    "# extract them and regresss on the covariates (originally we saved these and did regressions in Matlab)\n",
    "\n",
    "exp2covars.beta = x[:,1]\n",
    "exp2covars.alpha = 1 .- ( 0.5 .+ 0.5 .* erf.(x[:,2] ./ sqrt(2))) # alpha = 1-phi, squashed\n",
    "exp2covars.w = ( 0.5 .+ 0.5 .* erf.(x[:,3] ./ sqrt(2)))\n",
    "\n",
    "display(lm(@formula(beta~lsasZ+iqZ),exp2covars))\n",
    "display(lm(@formula(alpha~lsasZ+iqZ),exp2covars))\n",
    "display(lm(@formula(w~lsasZ+iqZ),exp2covars))"
   ]
  },
  {
   "cell_type": "code",
   "execution_count": null,
   "metadata": {},
   "outputs": [],
   "source": [
    "# Repeat the process with the valenced model, expt 2\n",
    "\n",
    "# set up the design matrix\n",
    "\n",
    "X = ones(exp2NS)\n",
    "\n",
    "betas = [-1. 0 0 0 0 0 0 0 0]\n",
    "sigma = [10.,1,1,1,1,1,1,1,1]\n",
    "\n",
    "(betas,sigma,x,l,h) = em(alldata,exp2subs,X,betas,sigma,ewalik_valenced; emtol=1e-3, full=false, maxiter=1000);"
   ]
  },
  {
   "cell_type": "code",
   "execution_count": null,
   "metadata": {},
   "outputs": [],
   "source": [
    "# x gives the per subject parameters (some need transforming to 0-1)\n",
    "# extract them and regresss on the covariates (originally we saved these and did regressions in Matlab)\n",
    "\n",
    "exp2covars.betavalenced = x[:,1]\n",
    "exp2covars.alphavalenced = 1 .- ( 0.5 .+ 0.5 .* erf.(x[:,2] ./ sqrt(2))) # alpha = 1-phi, squashed\n",
    "exp2covars.wplus = ( 0.5 .+ 0.5 .* erf.(x[:,3] ./ sqrt(2)))\n",
    "exp2covars.wminus = ( 0.5 .+ 0.5 .* erf.(x[:,4] ./ sqrt(2)))\n",
    "\n",
    "display(lm(@formula(betavalenced~lsasZ+iqZ),exp2covars))\n",
    "display(lm(@formula(alphavalenced~lsasZ+iqZ),exp2covars))\n",
    "display(lm(@formula(wplus~lsasZ+iqZ),exp2covars))\n",
    "display(lm(@formula(wminus~lsasZ+iqZ),exp2covars))\n",
    "\n",
    "# also regress on additional psychiatric symptom factors.\n",
    "# f3 is the one measuring social anxiety, f1 & f2 control for other symptom dimensions\n",
    "\n",
    "display(lm(@formula(betavalenced~f1+f2+f3+iqZ),exp2covars))\n",
    "display(lm(@formula(alphavalenced~f1+f2+f3+iqZ),exp2covars))\n",
    "display(lm(@formula(wplus~f1+f2+f3+iqZ),exp2covars))\n",
    "display(lm(@formula(wminus~f1+f2+f3+iqZ),exp2covars))"
   ]
  }
 ],
 "metadata": {
  "kernelspec": {
   "display_name": "Julia 1.6.0",
   "language": "julia",
   "name": "julia-1.6"
  },
  "language_info": {
   "file_extension": ".jl",
   "mimetype": "application/julia",
   "name": "julia",
   "version": "1.6.1"
  }
 },
 "nbformat": 4,
 "nbformat_minor": 4
}
